{
 "cells": [
  {
   "cell_type": "code",
   "execution_count": 1,
   "metadata": {},
   "outputs": [],
   "source": [
    "import requests\n",
    "import json\n",
    "import time\n",
    "from tqdm import tqdm\n",
    "from bs4 import BeautifulSoup\n",
    "from database_utils import Database\n",
    "import pandas as pd\n",
    "import time\n",
    "import datetime\n",
    "import random\n",
    "import sys"
   ]
  },
  {
   "cell_type": "markdown",
   "metadata": {},
   "source": [
    "# 根据关键词查出所有视频的相关信息"
   ]
  },
  {
   "cell_type": "code",
   "execution_count": null,
   "metadata": {},
   "outputs": [],
   "source": [
    "all_follows = set()\n",
    "\n"
   ]
  },
  {
   "cell_type": "code",
   "execution_count": null,
   "metadata": {},
   "outputs": [],
   "source": [
    "for i in range(1, 6):\n",
    "    s = requests.get('https://api.bilibili.com/x/relation/followings?vmid=20165629&pn='+ str(i) +'&ps=52').text\n",
    "    users = json.loads(s)['data']['list']\n",
    "    all_follows = all_follows | set([u['uname'] for u in users])"
   ]
  },
  {
   "cell_type": "code",
   "execution_count": null,
   "metadata": {},
   "outputs": [],
   "source": [
    "len(all_follows)"
   ]
  },
  {
   "cell_type": "code",
   "execution_count": null,
   "metadata": {},
   "outputs": [],
   "source": []
  },
  {
   "cell_type": "code",
   "execution_count": null,
   "metadata": {},
   "outputs": [],
   "source": [
    "keyword=\"鸿蒙系统\"\n",
    "res=[]"
   ]
  },
  {
   "cell_type": "code",
   "execution_count": null,
   "metadata": {},
   "outputs": [],
   "source": [
    "# 按url获取当前页的视频列表\n",
    "def get_video_list(url):\n",
    "    res = requests.get(url)\n",
    "    res.encoding = 'utf-8'\n",
    "    soup = BeautifulSoup(res.text, 'html.parser')\n",
    "    all_videos = soup.find_all(name='ul',attrs={\"class\":\"video-contain clearfix\"})[0]\n",
    "    all_videos = all_videos.find_all(name='div', attrs={\"class\":\"info\"})\n",
    "    return all_videos\n",
    "# 从url中分离出up主id\n",
    "def get_up_id(url):\n",
    "    return url[url.index(\"com/\") + 4: url.index(\"?\")]\n",
    "# 获取视频中的信息\n",
    "def get_vider_data(source, res):\n",
    "    for i, every_video in enumerate(source):\n",
    "        data = {}\n",
    "        data['av_id'] = every_video.find_all(name='span', attrs={\"class\":\"type avid\"})[0].text[2:]\n",
    "        data['title'] = every_video.a['title']\n",
    "\n",
    "        tags = every_video.find_all(name='div', attrs={\"class\":\"tags\"})[0]\n",
    "        for j, s in enumerate(tags):\n",
    "            data[s['title']] = s.text.strip()\n",
    "            if j == 3:\n",
    "                data['up_id'] = get_up_id(s.a['href'])\n",
    "        res.append(data)"
   ]
  },
  {
   "cell_type": "code",
   "execution_count": null,
   "metadata": {},
   "outputs": [],
   "source": [
    "for page in range(1, 100):\n",
    "    url = r'https://search.bilibili.com/all?keyword=' + keyword +'&page=' + str(page)\n",
    "    video_list = get_video_list(url)\n",
    "    if len(video_list) == 0:\n",
    "        print(\"共%d页\"% (page - 1))\n",
    "        break\n",
    "    else:\n",
    "        get_vider_data(video_list, res)   \n",
    "\n",
    "video_info = pd.DataFrame(data=res)\n",
    "# video_info.to_csv(\"video_info.csv\")"
   ]
  },
  {
   "cell_type": "code",
   "execution_count": null,
   "metadata": {},
   "outputs": [],
   "source": [
    "video_info"
   ]
  },
  {
   "cell_type": "markdown",
   "metadata": {},
   "source": [
    "# 爬取所有视频的弹幕"
   ]
  },
  {
   "cell_type": "code",
   "execution_count": null,
   "metadata": {},
   "outputs": [],
   "source": [
    "barrages = []\n",
    "av_id_list = video_info[video_info['弹幕'] != '0']['av_id'].tolist()"
   ]
  },
  {
   "cell_type": "code",
   "execution_count": null,
   "metadata": {},
   "outputs": [],
   "source": [
    "def get_cid(avid):\n",
    "    source = requests.get(\"https://api.bilibili.com/x/web-interface/view?aid=\" + str(avid)).text\n",
    "    source = json.loads(source)\n",
    "    cid = source['data']['cid']\n",
    "    return cid"
   ]
  },
  {
   "cell_type": "code",
   "execution_count": null,
   "metadata": {},
   "outputs": [],
   "source": [
    "cols_name = ['video_time', 'barrage_type', 'font_size', 'font_color',\n",
    "             'time', 'barrage_pool_type', 'sender_id', 'barrage_id']\n",
    "def get_barrages(avid):\n",
    "    curr_list = []\n",
    "    cid = get_cid(avid)\n",
    "    source = requests.get(\"https://comment.bilibili.com/\"+ str(cid) +\".xml\")\n",
    "    source.encoding = 'utf-8'\n",
    "    source = BeautifulSoup(source.text, 'html.parser')\n",
    "    source = source.find_all(name='d')\n",
    "    for line in source:\n",
    "        data = {'av_id': avid, 'content': line.text}\n",
    "        for i, val in enumerate(line['p'].split(',')):\n",
    "            data[cols_name[i]] = val\n",
    "#     source = json.loads(source)\n",
    "        curr_list.append(data)\n",
    "    return curr_list"
   ]
  },
  {
   "cell_type": "code",
   "execution_count": null,
   "metadata": {},
   "outputs": [],
   "source": [
    "for i, avid in enumerate(av_id_list):\n",
    "    barrages += get_barrages(avid)"
   ]
  },
  {
   "cell_type": "code",
   "execution_count": null,
   "metadata": {},
   "outputs": [],
   "source": [
    "barrages_csv = pd.DataFrame(data=barrages)"
   ]
  },
  {
   "cell_type": "code",
   "execution_count": 15,
   "metadata": {},
   "outputs": [
    {
     "data": {
      "text/plain": [
       "(11560, 10)"
      ]
     },
     "execution_count": 15,
     "metadata": {},
     "output_type": "execute_result"
    }
   ],
   "source": [
    "barrages_csv.shape"
   ]
  },
  {
   "cell_type": "markdown",
   "metadata": {},
   "source": [
    "# 获取弹幕中的所有u_id"
   ]
  },
  {
   "cell_type": "code",
   "execution_count": null,
   "metadata": {},
   "outputs": [],
   "source": [
    "def get_uid(x):\n",
    "    res = database_util.get_uid(x)\n",
    "    return res\n"
   ]
  },
  {
   "cell_type": "code",
   "execution_count": null,
   "metadata": {
    "scrolled": false
   },
   "outputs": [],
   "source": [
    "database_util = Database()\n",
    "barrages_csv['u_id'] = barrages_csv['sender_id'].apply(lambda x: get_uid(x))\n",
    "database_util.close()"
   ]
  },
  {
   "cell_type": "code",
   "execution_count": null,
   "metadata": {},
   "outputs": [],
   "source": [
    "barrages_csv.to_csv(\"barrage_csv.csv\", index=False)"
   ]
  },
  {
   "cell_type": "markdown",
   "metadata": {},
   "source": [
    "# 获取弹幕中所有用户的信息"
   ]
  },
  {
   "cell_type": "code",
   "execution_count": 2,
   "metadata": {},
   "outputs": [],
   "source": [
    "barrages_csv = pd.read_csv(\"barrage_csv.csv\")"
   ]
  },
  {
   "cell_type": "code",
   "execution_count": 3,
   "metadata": {},
   "outputs": [],
   "source": [
    "barrages_csv = barrages_csv[barrages_csv['u_id'].notnull()]\n",
    "barrages_csv['u_id'] = barrages_csv['u_id'].astype(int).astype(str)"
   ]
  },
  {
   "cell_type": "code",
   "execution_count": 25,
   "metadata": {},
   "outputs": [],
   "source": [
    "def LoadUserAgents(uafile):\n",
    "    uas = []\n",
    "    with open(uafile, 'rb') as uaf:\n",
    "        for ua in uaf.readlines():\n",
    "            if ua:\n",
    "                uas.append(ua.strip()[:-1])\n",
    "    random.shuffle(uas)\n",
    "    return uas\n",
    "\n",
    "uas = LoadUserAgents(\"user_agents.txt\")\n",
    "\n",
    "\n",
    "head = {\n",
    "    'User-Agent': random.choice(uas),\n",
    "    'Connection': 'close',\n",
    "}\n",
    "\n",
    "def get_user_info(uid):\n",
    "    data = {'u_id': uid}\n",
    "    requests.adapters.DEFAULT_RETRIES =5\n",
    "    source = requests.get(\"https://api.bilibili.com/x/space/acc/info?mid=\"+ str(uid) +\"&jsonp=jsonp\",\\\n",
    "                          timeout=3000)\n",
    "    res = requests.get(\n",
    "                'https://api.bilibili.com/x/relation/stat?vmid=' + str(uid) + '&jsonp=jsonp').text\n",
    "    js_fans_data = json.loads(res)         \n",
    "    source = json.loads(source.text)['data']\n",
    "    data['name'] = source['name']\n",
    "    data['sex'] = source['sex']\n",
    "    data['sign'] = source['sign']\n",
    "    data['level'] = source['level']\n",
    "    data['birthday'] = source['birthday']\n",
    "    data['vip'] = 1 if source['vip']['status'] == 1 else 0 \n",
    "    data['following'] = js_fans_data['data']['following']\n",
    "    data['fans'] = js_fans_data['data']['follower']\n",
    "    return data"
   ]
  },
  {
   "cell_type": "code",
   "execution_count": 27,
   "metadata": {},
   "outputs": [],
   "source": [
    "user_info_list=[]"
   ]
  },
  {
   "cell_type": "code",
   "execution_count": 29,
   "metadata": {
    "collapsed": true
   },
   "outputs": [
    {
     "name": "stdout",
     "output_type": "stream",
     "text": [
      "Connection refused by the server..and i is1199\n",
      "Connection refused by the server..and i is1199\n",
      "Connection refused by the server..and i is1200\n",
      "Connection refused by the server..and i is1202\n",
      "Connection refused by the server..and i is1204\n",
      "Connection refused by the server..and i is1204\n",
      "Connection refused by the server..and i is1204\n",
      "Connection refused by the server..and i is1205\n",
      "Connection refused by the server..and i is1205\n",
      "Connection refused by the server..and i is3482\n",
      "Connection refused by the server..and i is3496\n",
      "Connection refused by the server..and i is3661\n",
      "Connection refused by the server..and i is4445\n",
      "Connection refused by the server..and i is4533\n",
      "Connection refused by the server..and i is5050\n",
      "Connection refused by the server..and i is5562\n",
      "Connection refused by the server..and i is6085\n",
      "Connection refused by the server..and i is6730\n",
      "Connection refused by the server..and i is7617\n",
      "Connection refused by the server..and i is7617\n",
      "Connection refused by the server..and i is7620\n",
      "Connection refused by the server..and i is7656\n",
      "Connection refused by the server..and i is9941\n",
      "Connection refused by the server..and i is9955\n",
      "Connection refused by the server..and i is10118\n",
      "Connection refused by the server..and i is10902\n",
      "Connection refused by the server..and i is10988\n",
      "Connection refused by the server..and i is11504\n"
     ]
    }
   ],
   "source": [
    "user_list = barrages_csv['u_id'].tolist()\n",
    "idx = -1\n",
    "while idx < len(user_list):\n",
    "    idx += 1\n",
    "    \n",
    "    if idx == len(user_list):\n",
    "        break\n",
    "        \n",
    "    try:\n",
    "        user_info_list.append(get_user_info(user_list[idx]))\n",
    "    except:\n",
    "        print(\"Connection refused by the server..and i is\" + str(idx))\n",
    "        time.sleep(5)\n",
    "        idx -= 1\n",
    "        continue"
   ]
  },
  {
   "cell_type": "code",
   "execution_count": 34,
   "metadata": {},
   "outputs": [],
   "source": [
    "user_info = pd.DataFrame(data=user_info_list).drop_duplicates('u_id')"
   ]
  }
 ],
 "metadata": {
  "kernelspec": {
   "display_name": "Python 3",
   "language": "python",
   "name": "python3"
  },
  "language_info": {
   "codemirror_mode": {
    "name": "ipython",
    "version": 3
   },
   "file_extension": ".py",
   "mimetype": "text/x-python",
   "name": "python",
   "nbconvert_exporter": "python",
   "pygments_lexer": "ipython3",
   "version": "3.6.3"
  }
 },
 "nbformat": 4,
 "nbformat_minor": 2
}
