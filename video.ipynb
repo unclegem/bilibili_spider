{
 "cells": [
  {
   "cell_type": "code",
   "execution_count": null,
   "metadata": {},
   "outputs": [],
   "source": [
    "import requests\n",
    "import json\n",
    "from bs4 import BeautifulSoup\n",
    "import pandas as pd"
   ]
  },
  {
   "cell_type": "code",
   "execution_count": null,
   "metadata": {},
   "outputs": [],
   "source": [
    "def get_video_list(url):\n",
    "    res = requests.get(url)\n",
    "    res.encoding = 'utf-8'\n",
    "    soup = BeautifulSoup(res.text, 'html.parser')\n",
    "    all_videos = soup.find_all(name='ul',attrs={\"class\":\"video-contain clearfix\"})[0]\n",
    "    all_videos = all_videos.find_all(name='div', attrs={\"class\":\"info\"})\n",
    "    return all_videos"
   ]
  },
  {
   "cell_type": "code",
   "execution_count": null,
   "metadata": {},
   "outputs": [],
   "source": [
    "def get_up_id(url):\n",
    "    return url[url.index(\"com/\") + 4: url.index(\"?\")]"
   ]
  },
  {
   "cell_type": "code",
   "execution_count": null,
   "metadata": {},
   "outputs": [],
   "source": [
    "def get_vider_data(source, res):\n",
    "    for i, every_video in enumerate(source):\n",
    "        data = {}\n",
    "        data['av_id'] = every_video.find_all(name='span', attrs={\"class\":\"type avid\"})[0].text[2:]\n",
    "        data['title'] = every_video.a['title']\n",
    "\n",
    "        tags = every_video.find_all(name='div', attrs={\"class\":\"tags\"})[0]\n",
    "        for j, s in enumerate(tags):\n",
    "            data[s['title']] = s.text.strip()\n",
    "            if j == 3:\n",
    "                data['up_id'] = get_up_id(s.a['href'])\n",
    "        res.append(data)"
   ]
  },
  {
   "cell_type": "code",
   "execution_count": null,
   "metadata": {},
   "outputs": [],
   "source": [
    "keyword=\"一拳超人\"\n",
    "res=[]"
   ]
  },
  {
   "cell_type": "code",
   "execution_count": null,
   "metadata": {},
   "outputs": [],
   "source": [
    "for page in range(1, 100):\n",
    "    url = r'https://search.bilibili.com/all?keyword=' + keyword +'&page=' + str(page)\n",
    "    video_list = get_video_list(url)\n",
    "    if len(video_list) == 0:\n",
    "        print(\"共%d页\"% (page - 1))\n",
    "        break\n",
    "    else:\n",
    "        get_vider_data(video_list, res)         "
   ]
  },
  {
   "cell_type": "code",
   "execution_count": null,
   "metadata": {},
   "outputs": [],
   "source": [
    "pd.DataFrame(data=res)"
   ]
  }
 ],
 "metadata": {
  "kernelspec": {
   "display_name": "Python 3",
   "language": "python",
   "name": "python3"
  },
  "language_info": {
   "codemirror_mode": {
    "name": "ipython",
    "version": 3
   },
   "file_extension": ".py",
   "mimetype": "text/x-python",
   "name": "python",
   "nbconvert_exporter": "python",
   "pygments_lexer": "ipython3",
   "version": "3.6.3"
  }
 },
 "nbformat": 4,
 "nbformat_minor": 2
}
